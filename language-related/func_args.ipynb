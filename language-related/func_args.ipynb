{
 "cells": [
  {
   "cell_type": "code",
   "execution_count": 11,
   "metadata": {},
   "outputs": [],
   "source": [
    "def wrapper(func, *args,**kwargs):\n",
    "    for i in range(3):\n",
    "        last_time = False\n",
    "        if i == 2:\n",
    "            last_time = True\n",
    "        func(*args, last_time ,**kwargs)\n",
    "        \n",
    "def test(x):\n",
    "    print(x)\n",
    "    \n",
    "def test2(x, last_time, y):\n",
    "    if last_time:\n",
    "        print('this is last')\n",
    "    print(x,y)\n",
    "    \n",
    "def test3(x, y, last_time, last_print):\n",
    "    print(x,y)\n",
    "    if last_time:\n",
    "        print(last_print)\n",
    "           "
   ]
  },
  {
   "cell_type": "code",
   "execution_count": 13,
   "metadata": {},
   "outputs": [
    {
     "name": "stdout",
     "output_type": "stream",
     "text": [
      "-------------\n",
      "hi world\n",
      "hi world\n",
      "this is last\n",
      "hi world\n",
      "-------------\n",
      "1 2\n",
      "1 2\n",
      "1 2\n",
      "last print\n"
     ]
    }
   ],
   "source": [
    "# wrapper(test, 'hi')\n",
    "print('-------------')\n",
    "wrapper(test2, 'hi', y='world')\n",
    "print('-------------')\n",
    "wrapper(test3, 1,2, last_print='last print')"
   ]
  },
  {
   "cell_type": "code",
   "execution_count": null,
   "metadata": {
    "collapsed": true
   },
   "outputs": [],
   "source": []
  }
 ],
 "metadata": {
  "kernelspec": {
   "display_name": "Python 3",
   "language": "python",
   "name": "python3"
  },
  "language_info": {
   "codemirror_mode": {
    "name": "ipython",
    "version": 3
   },
   "file_extension": ".py",
   "mimetype": "text/x-python",
   "name": "python",
   "nbconvert_exporter": "python",
   "pygments_lexer": "ipython3",
   "version": "3.6.9"
  }
 },
 "nbformat": 4,
 "nbformat_minor": 2
}
