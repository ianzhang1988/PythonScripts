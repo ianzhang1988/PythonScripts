{
 "cells": [
  {
   "cell_type": "code",
   "execution_count": 11,
   "metadata": {},
   "outputs": [],
   "source": [
    "\n",
    "class Node:\n",
    "    def __init__(self):\n",
    "        self.parent = None\n",
    "        self.left = None\n",
    "        self.right = None\n",
    "        self.value = None\n",
    "    \n",
    "class Tree:\n",
    "    def __init__(self):\n",
    "        self.root = Node()\n",
    "        self.queue = []\n",
    "        self.queue.append(self.root)\n",
    "        \n",
    "    def add_node(self, node):\n",
    "        while True:\n",
    "            root = self.queue[0]\n",
    "            if not (root.left and root.right):\n",
    "                break\n",
    "            else:\n",
    "                self.queue.pop(0)\n",
    "                \n",
    "        if not root.left:\n",
    "            root.left = node\n",
    "        elif not root.right:\n",
    "            root.right = node\n",
    "        else:\n",
    "            raise Exception('not possiable')\n",
    "        \n",
    "        node.parent=root\n",
    "        self.queue.append(node)"
   ]
  },
  {
   "cell_type": "code",
   "execution_count": 12,
   "metadata": {},
   "outputs": [],
   "source": [
    "tree = Tree()\n",
    "tree.root.value = 0\n",
    "for i in range(1,10):\n",
    "    n = Node()\n",
    "    n.value = i\n",
    "    tree.add_node(n)\n"
   ]
  },
  {
   "cell_type": "code",
   "execution_count": 13,
   "metadata": {},
   "outputs": [],
   "source": [
    "def traverse(node):\n",
    "    print(node.value)\n",
    "    if not (node.left or node.right):\n",
    "        return\n",
    "    \n",
    "    if node.left:\n",
    "        traverse(node.left)\n",
    "        \n",
    "    if node.right:\n",
    "        traverse(node.right)"
   ]
  },
  {
   "cell_type": "code",
   "execution_count": 35,
   "metadata": {},
   "outputs": [],
   "source": [
    "def travese_snake( level, queue ):\n",
    "    queue_new = []\n",
    "    queue.reverse()\n",
    "    while True: # trevase level\n",
    "        if len(queue)<1:\n",
    "            break\n",
    "        node = queue.pop(0)\n",
    "        print(node.value)\n",
    "\n",
    "        if level %2 == 0:\n",
    "            if node.left:\n",
    "                queue_new.append(node.left)\n",
    "            if node.right:\n",
    "                queue_new.append(node.right)\n",
    "\n",
    "        elif level %2 != 0:\n",
    "            if node.left:\n",
    "                queue_new.append(node.right)\n",
    "            if node.right:\n",
    "                queue_new.append(node.left)\n",
    "\n",
    "    if len(queue_new)<1:\n",
    "        return\n",
    "\n",
    "    travese_snake(level+1, queue_new)"
   ]
  },
  {
   "cell_type": "code",
   "execution_count": 36,
   "metadata": {},
   "outputs": [
    {
     "name": "stdout",
     "output_type": "stream",
     "text": [
      "0\n",
      "1\n",
      "3\n",
      "7\n",
      "8\n",
      "4\n",
      "9\n",
      "2\n",
      "5\n",
      "6\n",
      "--------------\n",
      "0\n",
      "2\n",
      "1\n",
      "3\n",
      "4\n",
      "5\n",
      "6\n",
      "9\n",
      "8\n",
      "7\n"
     ]
    }
   ],
   "source": [
    "traverse(tree.root)\n",
    "\n",
    "print('--------------')\n",
    "\n",
    "queue = []\n",
    "\n",
    "\n",
    "queue.append(tree.root)\n",
    "travese_snake(0,queue)"
   ]
  },
  {
   "cell_type": "code",
   "execution_count": 15,
   "metadata": {
    "collapsed": true
   },
   "outputs": [],
   "source": [
    "def is_leaf(node):\n",
    "    return not (node.left and node.right)\n",
    "\n",
    "def get_depth(node):\n",
    "    \n",
    "    if is_leaf(node):\n",
    "        return 1\n",
    "    \n",
    "    depth_left = 0\n",
    "    depth_right = 0\n",
    "    if node.left:\n",
    "        depth_left = get_depth(node.left)\n",
    "        \n",
    "    if node.right:\n",
    "        depth_right = get_depth(node.right)\n",
    "        \n",
    "    child_depth = max(depth_left, depth_right)\n",
    "    \n",
    "    return child_depth + 1"
   ]
  },
  {
   "cell_type": "code",
   "execution_count": 16,
   "metadata": {},
   "outputs": [
    {
     "data": {
      "text/plain": [
       "4"
      ]
     },
     "execution_count": 16,
     "metadata": {},
     "output_type": "execute_result"
    }
   ],
   "source": [
    "get_depth(tree.root)"
   ]
  },
  {
   "cell_type": "code",
   "execution_count": null,
   "metadata": {
    "collapsed": true
   },
   "outputs": [],
   "source": []
  }
 ],
 "metadata": {
  "kernelspec": {
   "display_name": "Python 3",
   "language": "python",
   "name": "python3"
  },
  "language_info": {
   "codemirror_mode": {
    "name": "ipython",
    "version": 3
   },
   "file_extension": ".py",
   "mimetype": "text/x-python",
   "name": "python",
   "nbconvert_exporter": "python",
   "pygments_lexer": "ipython3",
   "version": "3.7.4"
  }
 },
 "nbformat": 4,
 "nbformat_minor": 2
}
